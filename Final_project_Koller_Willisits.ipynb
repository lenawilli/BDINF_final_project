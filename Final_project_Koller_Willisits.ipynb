{
 "cells": [
  {
   "cell_type": "markdown",
   "id": "13bf527d-284c-42ce-9051-a846ea0018e0",
   "metadata": {},
   "source": [
    "# Ein Bezirk – ein Name"
   ]
  },
  {
   "cell_type": "markdown",
   "id": "e1244f44-5bef-4ba8-85a0-c7a296b1709c",
   "metadata": {},
   "source": [
    "## Gemeinden mit dem höchsten Vorkommen einzelner Vornamen bei Lebendgeborenen\n",
    "\n",
    "Das Ziel dieses Projekts ist es, die Gemeinden mit dem höchsten Vorkommen von einzelnen Vornamen bei Lebendgeborenen in Österreich zu identifizieren. Hierbei wird auch der höchste relative Anteil an gleich benannten Lebendgeborenen unter Berücksichtigung der Einwohnerzahl berechnet. Das Projekt wird von Raphael Koller und Lena Willisits durchgeführt.\n",
    "\n",
    "### Datenquellen\n",
    "\n",
    "Die geplanten Datenquellen für dieses Projekt sind:\n",
    "\n",
    "- [Statistik Austria: Vornamen nach Geburtsjahr, Geschlecht und politischem Bezirk ab 2010](https://www.data.gv.at/katalog/de/dataset/stat_vornamen#resources)\n",
    "- [Statistik Austria: Bevölkerung seit 1869 für Gemeinden, Politische Bezirke und Bundesland](https://www.data.gv.at/katalog/de/dataset/stat_bevolkerung-seit-1869-fur-politische-bezirke-und-bundesland)\n",
    "\n",
    "### Data Storage\n",
    "\n",
    "Als Datenbank für dieses Projekt wird Elasticsearch verwendet.\n",
    "\n",
    "### Geplanter Ablauf\n",
    "\n",
    "1. Ein Jupyter Notebook für das Projekt anlegen.\n",
    "2. Infrastruktur-Aspekte des Projekts planen.\n",
    "3. Docker-Container einrichten, um Elasticsearch DB zu starten (mittels `docker-compose.yml`).\n",
    "4. Index in Elasticsearch anlegen.\n",
    "5. Verbindung zur Datenbank über DataGrip aufbauen.\n",
    "6. Tabellen in DataGrip mit CSV-Inhalten befüllen.\n",
    "7. Abfragen formulieren, um das Projektthema zu erarbeiten.\n",
    "8. Kibana für die Suche und Visualisierung nutzen.\n",
    "9. Explorative Daten-Erkundung mittels Pandas durchführen.\n",
    "10. Markdown-Notizen hinzufügen, um das Projekt zu beschreiben.\n",
    "11. Das Projekt finalisieren.\n",
    "12. Das Notebook testen (vom Anfang bis zum Ende ausführen).\n",
    "13. Überprüfen, ob alle Kriterien laut Projektspezifikation erfüllt sind.\n",
    "\n",
    "### Erwartetes Ergebnis\n",
    "\n",
    "Das erwartete Ergebnis dieses Projekts ist ein gut strukturiertes Jupyter Notebook, das alle notwendigen Informationen enthält, um die Ergebnisse zu reproduzieren. Zudem sollen verschiedene Methoden der Big Data erkundet und Tools der Data Science angewendet werden. Schließlich soll eine spannende Geschichte mit Hilfe der aufbereiteten Daten erzählt werden."
   ]
  },
  {
   "cell_type": "markdown",
   "id": "5da8306c-fac9-414d-884c-ac4709411c62",
   "metadata": {},
   "source": [
    "### Python Pakete importieren bzw. ggf. installieren"
   ]
  },
  {
   "cell_type": "code",
   "execution_count": 16,
   "id": "ad0fb321-a9d1-4d97-a32e-d70c19538f84",
   "metadata": {},
   "outputs": [],
   "source": [
    "try:\n",
    "    from elasticsearch import Elasticsearch, helpers\n",
    "except:\n",
    "    !pip install elasticsearch\n",
    "    from elasticsearch import Elasticsearch, helpers"
   ]
  },
  {
   "cell_type": "markdown",
   "id": "9ad8de27-1f5d-478b-93cb-5de44241ad30",
   "metadata": {},
   "source": [
    "### Zum Elasticsearch Node mittels Basic Authentication verbinden"
   ]
  },
  {
   "cell_type": "code",
   "execution_count": 11,
   "id": "e57b03ff-343c-4398-b0d6-d08b334823c8",
   "metadata": {},
   "outputs": [],
   "source": [
    "es = Elasticsearch(\n",
    "    \"http://81.173.84.159:9200\",\n",
    "    basic_auth=(\"elastic\", \"iA7LwG44T2Dq5NXd9D7C\")\n",
    ")"
   ]
  },
  {
   "cell_type": "code",
   "execution_count": 147,
   "id": "8403f933-b298-4686-8d6b-5a783f7a04db",
   "metadata": {},
   "outputs": [
    {
     "name": "stdout",
     "output_type": "stream",
     "text": [
      "{'name': '7f76c63ac5bd', 'cluster_name': 'docker-cluster', 'cluster_uuid': 'CrGZljlSQ0CVFbvNI-SiZg', 'version': {'number': '8.7.1', 'build_flavor': 'default', 'build_type': 'docker', 'build_hash': 'f229ed3f893a515d590d0f39b05f68913e2d9b53', 'build_date': '2023-04-27T04:33:42.127815583Z', 'build_snapshot': False, 'lucene_version': '9.5.0', 'minimum_wire_compatibility_version': '7.17.0', 'minimum_index_compatibility_version': '7.0.0'}, 'tagline': 'You Know, for Search'}\n"
     ]
    }
   ],
   "source": [
    "try:\n",
    "    print(es.info())\n",
    "except:\n",
    "    print(\"Wait until Elasticsearch is fully started\")"
   ]
  },
  {
   "cell_type": "code",
   "execution_count": 143,
   "id": "1c49e2c4-4602-4783-b3a3-4fe192c91988",
   "metadata": {},
   "outputs": [
    {
     "name": "stdout",
     "output_type": "stream",
     "text": [
      "Connected to Elasticsearch\n"
     ]
    }
   ],
   "source": [
    "if es.ping():\n",
    "    print(\"Connected to Elasticsearch\")\n",
    "else:\n",
    "    print(\"Could not connect to Elasticsearch\")"
   ]
  },
  {
   "cell_type": "markdown",
   "id": "c51db72a-626b-4761-ad52-ad6ad95bf7cd",
   "metadata": {},
   "source": [
    "### Index \"idx1\" erstellen"
   ]
  },
  {
   "cell_type": "code",
   "execution_count": 205,
   "id": "286bbfa3-3031-4939-bd24-bf986db9984e",
   "metadata": {},
   "outputs": [],
   "source": [
    "es_index = 'idx1'"
   ]
  },
  {
   "cell_type": "code",
   "execution_count": 209,
   "id": "17b911b9-4896-4d46-8ef3-6188db02dfe1",
   "metadata": {},
   "outputs": [
    {
     "data": {
      "text/plain": [
       "ObjectApiResponse({'acknowledged': True, 'shards_acknowledged': True, 'index': 'idx2'})"
      ]
     },
     "execution_count": 209,
     "metadata": {},
     "output_type": "execute_result"
    }
   ],
   "source": [
    "es.indices.create(index=es_index)"
   ]
  },
  {
   "cell_type": "markdown",
   "id": "ea6e188d-dac6-4709-b9b8-64c381847b23",
   "metadata": {},
   "source": [
    "### Daten von CSV Dateien einliesen und in den Elasticsearch Index \"idx1\" importieren"
   ]
  },
  {
   "cell_type": "code",
   "execution_count": 196,
   "id": "a8f141d8-7a14-409b-b000-8fcd247adc7e",
   "metadata": {},
   "outputs": [],
   "source": [
    "import pandas as pd\n",
    "from elasticsearch import Elasticsearch\n",
    "from elasticsearch.helpers import bulk\n",
    "\n",
    "def read_csv_file(file_path):\n",
    "    return pd.read_csv(file_path)\n",
    "\n",
    "def create_es_action(row, es_index):\n",
    "    return {\n",
    "        '_index': es_index,\n",
    "        '_source': row.to_dict()\n",
    "    }\n",
    "\n",
    "def import_csv_to_es(es, index_name, file_path):\n",
    "    df = read_csv_file(file_path)\n",
    "    actions = (create_es_action(row, index_name) for _, row in df.iterrows())\n",
    "    bulk(es, actions)"
   ]
  },
  {
   "cell_type": "code",
   "execution_count": 197,
   "id": "b96d9a1c-fe97-4995-891b-96f2c15345dc",
   "metadata": {},
   "outputs": [],
   "source": [
    "file_paths = [\"Data/OGD_f0743_VZ_HIS_GEM_2.csv\", \"Data/OGDEXT_VORNAMEN_1.csv\"]"
   ]
  },
  {
   "cell_type": "code",
   "execution_count": 198,
   "id": "7d9742e5-10c7-4a0f-8056-cf203637a535",
   "metadata": {},
   "outputs": [
    {
     "name": "stdout",
     "output_type": "stream",
     "text": [
      "Importing Data/OGD_f0743_VZ_HIS_GEM_2.csv...\n",
      "Data/OGD_f0743_VZ_HIS_GEM_2.csv imported successfully.\n",
      "Importing Data/OGDEXT_VORNAMEN_1.csv...\n",
      "Data/OGDEXT_VORNAMEN_1.csv imported successfully.\n"
     ]
    }
   ],
   "source": [
    "for file_path in file_paths:\n",
    "    print(f\"Importing {file_path}...\")\n",
    "    import_csv_to_es(es, es_index, file_path)\n",
    "    print(f\"{file_path} imported successfully.\")"
   ]
  },
  {
   "cell_type": "markdown",
   "id": "765f2d70-3c3c-4da2-915b-15034cd0457f",
   "metadata": {},
   "source": [
    "### Dokumente vom Index in Elasticsearch auslesen"
   ]
  },
  {
   "cell_type": "code",
   "execution_count": 186,
   "id": "a8c126cc-d7d1-4244-aa27-c10bd462d3a0",
   "metadata": {},
   "outputs": [],
   "source": [
    "import json"
   ]
  },
  {
   "cell_type": "code",
   "execution_count": 200,
   "id": "995222e6-649d-4e82-b728-96c21a4f81c6",
   "metadata": {},
   "outputs": [
    {
     "name": "stdout",
     "output_type": "stream",
     "text": [
      "[\n",
      "  {\n",
      "    \"_index\": \"idx1\",\n",
      "    \"_id\": \"52Jm3ocBRHeBTOQLXVhO\",\n",
      "    \"_score\": 1.0,\n",
      "    \"_source\": {\n",
      "      \"C-JAHR-0\": 2011,\n",
      "      \"C-WOHNBEZIRK-0\": 201,\n",
      "      \"C-GESCHLECHT-0\": 1,\n",
      "      \"F-VORNAME\": \"Thibault\",\n",
      "      \"F-VORNAME_NORMALISIERT\": \"Thibault\",\n",
      "      \"F-ANZAHL_LGEB\": 1\n",
      "    }\n",
      "  },\n",
      "  {\n",
      "    \"_index\": \"idx1\",\n",
      "    \"_id\": \"6GJm3ocBRHeBTOQLXVhO\",\n",
      "    \"_score\": 1.0,\n",
      "    \"_source\": {\n",
      "      \"C-JAHR-0\": 2011,\n",
      "      \"C-WOHNBEZIRK-0\": 201,\n",
      "      \"C-GESCHLECHT-0\": 1,\n",
      "      \"F-VORNAME\": \"Thomas\",\n",
      "      \"F-VORNAME_NORMALISIERT\": \"Thomas\",\n",
      "      \"F-ANZAHL_LGEB\": 5\n",
      "    }\n",
      "  },\n",
      "  {\n",
      "    \"_index\": \"idx1\",\n",
      "    \"_id\": \"6WJm3ocBRHeBTOQLXVhO\",\n",
      "    \"_score\": 1.0,\n",
      "    \"_source\": {\n",
      "      \"C-JAHR-0\": 2011,\n",
      "      \"C-WOHNBEZIRK-0\": 201,\n",
      "      \"C-GESCHLECHT-0\": 1,\n",
      "      \"F-VORNAME\": \"Till\",\n",
      "      \"F-VORNAME_NORMALISIERT\": \"Til\",\n",
      "      \"F-ANZAHL_LGEB\": 1\n",
      "    }\n",
      "  },\n",
      "  {\n",
      "    \"_index\": \"idx1\",\n",
      "    \"_id\": \"6mJm3ocBRHeBTOQLXVhO\",\n",
      "    \"_score\": 1.0,\n",
      "    \"_source\": {\n",
      "      \"C-JAHR-0\": 2011,\n",
      "      \"C-WOHNBEZIRK-0\": 201,\n",
      "      \"C-GESCHLECHT-0\": 1,\n",
      "      \"F-VORNAME\": \"Tim\",\n",
      "      \"F-VORNAME_NORMALISIERT\": \"Tim\",\n",
      "      \"F-ANZAHL_LGEB\": 2\n",
      "    }\n",
      "  },\n",
      "  {\n",
      "    \"_index\": \"idx1\",\n",
      "    \"_id\": \"62Jm3ocBRHeBTOQLXVhO\",\n",
      "    \"_score\": 1.0,\n",
      "    \"_source\": {\n",
      "      \"C-JAHR-0\": 2011,\n",
      "      \"C-WOHNBEZIRK-0\": 201,\n",
      "      \"C-GESCHLECHT-0\": 1,\n",
      "      \"F-VORNAME\": \"Timo\",\n",
      "      \"F-VORNAME_NORMALISIERT\": \"Timo\",\n",
      "      \"F-ANZAHL_LGEB\": 1\n",
      "    }\n",
      "  }\n",
      "]\n"
     ]
    }
   ],
   "source": [
    "res = es.search(index=\"idx1\", query={\"match_all\": {}}, size=5)\n",
    "print(json.dumps(res['hits']['hits'], indent=2))"
   ]
  },
  {
   "cell_type": "markdown",
   "id": "0fe37958-ee4d-481a-ab99-4d4a953e6c99",
   "metadata": {},
   "source": [
    "### Notwendige Pakete laden"
   ]
  },
  {
   "cell_type": "code",
   "execution_count": 242,
   "id": "4de1a4ed-94b5-4d98-9d98-b9354aec6aca",
   "metadata": {},
   "outputs": [],
   "source": [
    "try:\n",
    "    from elasticsearch_dsl import Search\n",
    "except:\n",
    "    !pip install elasticsearch_dsl\n",
    "    from elasticsearch_dsl import Search"
   ]
  },
  {
   "cell_type": "markdown",
   "id": "8f33cb17-38af-4eae-bb11-df1699fee47e",
   "metadata": {},
   "source": [
    "### Definieren einer Funktion, die eine Suchanfrage auf Elasticsearch ausführt und die Ergebnisse als Pandas DataFrame zurückgibt"
   ]
  },
  {
   "cell_type": "code",
   "execution_count": 244,
   "id": "bcda2229-ed7a-40fc-9b99-9e7cdf6396c7",
   "metadata": {},
   "outputs": [],
   "source": [
    "def es_to_dataframe(es, index, query, source_fields=None):\n",
    "    scanned_data = scan(es, query=query, index=index, _source=source_fields)\n",
    "    data = [document['_source'] for document in scanned_data]\n",
    "    return pd.DataFrame(data)"
   ]
  },
  {
   "cell_type": "markdown",
   "id": "b17dc30e-faf4-42fa-8396-9c8e532c2e9e",
   "metadata": {},
   "source": [
    "### Ausführen einer Suchabfrage und Speichern der Ergebnisse in einem DataFrame"
   ]
  },
  {
   "cell_type": "code",
   "execution_count": 243,
   "id": "855b3dcb-0b6e-4477-a7ff-39b638a3f7f2",
   "metadata": {},
   "outputs": [],
   "source": [
    "from elasticsearch.helpers import scan"
   ]
  },
  {
   "cell_type": "code",
   "execution_count": 326,
   "id": "a3e0ec15-4cb0-4417-a598-39e9cafb9ec4",
   "metadata": {},
   "outputs": [],
   "source": [
    "import matplotlib.pyplot as plt\n",
    "import numpy as np"
   ]
  },
  {
   "cell_type": "code",
   "execution_count": 262,
   "id": "ca5d83e3-a084-4821-9ded-985f80be9f6f",
   "metadata": {},
   "outputs": [],
   "source": [
    "query = {\n",
    "    \"query\": {\n",
    "        \"match\": {\"C-JAHR-0\":\"2011\"}\n",
    "    }\n",
    "}\n",
    "\n",
    "# List the source fields you want to retrieve from Elasticsearch\n",
    "# Set it to None if you want to retrieve all fields\n",
    "source_fields = [\n",
    "    \"C-H88-0\",\n",
    "    \"C-GRGEM\",\n",
    "    \"F-ISIS-1\",\n",
    "    \"C-JAHR-0\",\n",
    "    \"C-WOHNBEZIRK-0\",\n",
    "    \"C-GESCHLECHT-0\",\n",
    "    \"F-VORNAME\",\n",
    "    \"F-VORNAME_NORMALISIERT\",\n",
    "    \"F-ANZAHL_LGEB\",\n",
    "]\n",
    "\n",
    "df1 = es_to_dataframe(es, index_name, query, source_fields)"
   ]
  },
  {
   "cell_type": "code",
   "execution_count": 263,
   "id": "65762365-a690-4731-a7c2-053b5cb2f63e",
   "metadata": {},
   "outputs": [],
   "source": [
    "# Calculate the gender counts\n",
    "gender_counts = df1['C-GESCHLECHT-0'].value_counts()"
   ]
  },
  {
   "cell_type": "code",
   "execution_count": 277,
   "id": "45955142-dc20-489c-a06b-038f5d0335f4",
   "metadata": {},
   "outputs": [
    {
     "data": {
      "image/png": "[encoded data removed]",
      "text/plain": [
       "<Figure size 600x600 with 1 Axes>"
      ]
     },
     "metadata": {},
     "output_type": "display_data"
    }
   ],
   "source": [
    "# Plot gender distribution\n",
    "plt.figure(figsize=(6, 6))\n",
    "plt.pie(gender_counts, labels=['Männlich', 'Weiblich'], autopct='%1.1f%%', startangle=90)\n",
    "plt.axis('equal')\n",
    "plt.title('Geschlechterverteilung in 2011')\n",
    "plt.show()"
   ]
  },
  {
   "cell_type": "code",
   "execution_count": 307,
   "id": "b56ef7ae-849f-4833-a8a7-5362f06736b1",
   "metadata": {},
   "outputs": [
    {
     "data": {
      "image/png": "[encoded data removed]",
      "text/plain": [
       "<Figure size 640x480 with 1 Axes>"
      ]
     },
     "metadata": {},
     "output_type": "display_data"
    }
   ],
   "source": [
    "query = {\n",
    "    \"query\": {\n",
    "        \"bool\": {\n",
    "            \"must\": [\n",
    "                {\"match\": {\"C-WOHNBEZIRK-0\": 900}}\n",
    "            ],\n",
    "            \"should\": [\n",
    "                {\"match\": {\"F-VORNAME\": \"Katharina\"}},\n",
    "                {\"match\": {\"F-VORNAME\": \"Lukas\"}},\n",
    "                {\"match\": {\"F-VORNAME\": \"Thomas\"}}\n",
    "            ],\n",
    "            \"minimum_should_match\": 1\n",
    "        }\n",
    "    }\n",
    "}\n",
    "\n",
    "source_fields = [\n",
    "    \"C-WOHNBEZIRK-0\",\n",
    "    \"F-VORNAME\",\n",
    "    \"F-ANZAHL_LGEB\",\n",
    "]\n",
    "\n",
    "df2 = es_to_dataframe(es, index_name, query, source_fields)\n",
    "\n",
    "location = 900\n",
    "\n",
    "name = \"Katharina\"\n",
    "filtered_data_katharina = df2[(df2[\"F-VORNAME\"] == name) & (df2[\"C-WOHNBEZIRK-0\"] == location)]\n",
    "katharina_count = filtered_data_katharina[\"F-ANZAHL_LGEB\"].sum()\n",
    "\n",
    "name = \"Lukas\"\n",
    "filtered_data_lukas = df2[(df2[\"F-VORNAME\"] == name) & (df2[\"C-WOHNBEZIRK-0\"] == location)]\n",
    "lukas_count = filtered_data_lukas[\"F-ANZAHL_LGEB\"].sum()\n",
    "\n",
    "name = \"Thomas\"\n",
    "filtered_data_thomas = df2[(df2[\"F-VORNAME\"] == name) & (df2[\"C-WOHNBEZIRK-0\"] == location)]\n",
    "thomas_count = filtered_data_thomas[\"F-ANZAHL_LGEB\"].sum()\n",
    "\n",
    "# Create a bar plot\n",
    "plt.bar([\"Katharina\"], [katharina_count])\n",
    "plt.bar([\"Lukas\"], [lukas_count])\n",
    "plt.bar([\"Thomas\"], [thomas_count])\n",
    "plt.xlabel(\"Name\")\n",
    "plt.ylabel(\"Anzahl der Geburten seit 2010\")\n",
    "plt.title(f\"Anzahl von Lebendgeborenen in Wien\")\n",
    "plt.show()"
   ]
  },
  {
   "cell_type": "code",
   "execution_count": 305,
   "id": "8e3ab3b5-78f0-493b-9918-40d02181977d",
   "metadata": {},
   "outputs": [],
   "source": [
    "query = {\n",
    "    \"query\": {\n",
    "        \"bool\": {\n",
    "            \"must\": [\n",
    "                {\"match\": {\"C-GESCHLECHT-0\": 2}}\n",
    "            ]\n",
    "        }\n",
    "    }\n",
    "}\n",
    "\n",
    "source_fields = [\n",
    "    \"C-WOHNBEZIRK-0\",\n",
    "    \"F-VORNAME\",\n",
    "    \"F-ANZAHL_LGEB\",\n",
    "]\n",
    "\n",
    "df3 = es_to_dataframe(es, index_name, query, source_fields)"
   ]
  },
  {
   "cell_type": "code",
   "execution_count": 306,
   "id": "ec71ef28-02b8-4073-806a-ff2943f247c8",
   "metadata": {},
   "outputs": [
    {
     "data": {
      "text/plain": [
       "F-VORNAME\n",
       "Anna           24666\n",
       "Sophie         16134\n",
       "Marie          14621\n",
       "Emilia         12818\n",
       "Elena          11195\n",
       "               ...  \n",
       "Luiza-Maria        1\n",
       "Luja               1\n",
       "Luna-Mae           1\n",
       "Lykka              1\n",
       "Živana             1\n",
       "Name: F-ANZAHL_LGEB, Length: 8244, dtype: int64"
      ]
     },
     "execution_count": 306,
     "metadata": {},
     "output_type": "execute_result"
    }
   ],
   "source": [
    "top_names = df3.groupby('F-VORNAME')['F-ANZAHL_LGEB'].sum()\n",
    "sorted_names = top_names.sort_values(ascending=False)\n",
    "sorted_names"
   ]
  },
  {
   "cell_type": "code",
   "execution_count": 312,
   "id": "04a388b6-04a6-4004-9b12-46e360e03364",
   "metadata": {},
   "outputs": [
    {
     "data": {
      "image/png": "[encoded data removed]",
      "text/plain": [
       "<Figure size 640x480 with 1 Axes>"
      ]
     },
     "metadata": {},
     "output_type": "display_data"
    }
   ],
   "source": [
    "name = \"Anna\"\n",
    "filtered_data_anna = df3[(df3[\"F-VORNAME\"] == name)]\n",
    "anna_count = filtered_data_anna[\"F-ANZAHL_LGEB\"].sum()\n",
    "\n",
    "name = \"Sophie\"\n",
    "filtered_data_sophie = df3[(df3[\"F-VORNAME\"] == name)]\n",
    "sophie_count = filtered_data_sophie[\"F-ANZAHL_LGEB\"].sum()\n",
    "\n",
    "name = \"Marie\"\n",
    "filtered_data_marie = df3[(df3[\"F-VORNAME\"] == name)]\n",
    "marie_count = filtered_data_marie[\"F-ANZAHL_LGEB\"].sum()\n",
    "\n",
    "name = \"Emilia\"\n",
    "filtered_data_emilia = df3[(df3[\"F-VORNAME\"] == name)]\n",
    "emilia_count = filtered_data_emilia[\"F-ANZAHL_LGEB\"].sum()\n",
    "\n",
    "name = \"Elena\"\n",
    "filtered_data_elena = df3[(df3[\"F-VORNAME\"] == name)]\n",
    "elena_count = filtered_data_elena[\"F-ANZAHL_LGEB\"].sum()\n",
    "\n",
    "# Create a bar plot\n",
    "plt.bar([\"Anna\"], [anna_count])\n",
    "plt.bar([\"Sophie\"], [sophie_count])\n",
    "plt.bar([\"Marie\"], [marie_count])\n",
    "plt.bar([\"Emilia\"], [emilia_count])\n",
    "plt.bar([\"Elena\"], [elena_count])\n",
    "plt.xlabel(\"Name\")\n",
    "plt.ylabel(\"Anzahl der Geburten seit 2010\")\n",
    "plt.title(f\"Anzahl von weiblichen Lebendgeborenen\")\n",
    "plt.show()"
   ]
  },
  {
   "cell_type": "code",
   "execution_count": 309,
   "id": "a21f9409-4bf7-4adb-9f7d-4ca26760e76c",
   "metadata": {},
   "outputs": [],
   "source": [
    "query = {\n",
    "    \"query\": {\n",
    "        \"bool\": {\n",
    "            \"must\": [\n",
    "                {\"match\": {\"C-GESCHLECHT-0\": 1}}\n",
    "            ]\n",
    "        }\n",
    "    }\n",
    "}\n",
    "\n",
    "source_fields = [\n",
    "    \"C-WOHNBEZIRK-0\",\n",
    "    \"F-VORNAME\",\n",
    "    \"F-ANZAHL_LGEB\",\n",
    "]\n",
    "\n",
    "df4 = es_to_dataframe(es, index_name, query, source_fields)"
   ]
  },
  {
   "cell_type": "code",
   "execution_count": 310,
   "id": "af089e64-1743-49d8-8030-0e7e9fef4e70",
   "metadata": {},
   "outputs": [
    {
     "data": {
      "text/plain": [
       "F-VORNAME\n",
       "Lukas         17768\n",
       "David         10785\n",
       "Elias         10758\n",
       "Jakob         10585\n",
       "Maximilian    10206\n",
       "              ...  \n",
       "Si                1\n",
       "Evian             1\n",
       "Kiron             1\n",
       "Shpreson          1\n",
       "Sarjo             1\n",
       "Name: F-ANZAHL_LGEB, Length: 7680, dtype: int64"
      ]
     },
     "execution_count": 310,
     "metadata": {},
     "output_type": "execute_result"
    }
   ],
   "source": [
    "top_names = df4.groupby('F-VORNAME')['F-ANZAHL_LGEB'].sum()\n",
    "sorted_names = top_names.sort_values(ascending=False)\n",
    "sorted_names"
   ]
  },
  {
   "cell_type": "code",
   "execution_count": 314,
   "id": "55a209d2-67b2-41b2-8261-a0d4d54d8cff",
   "metadata": {},
   "outputs": [
    {
     "data": {
      "image/png": "[encoded data removed]",
      "text/plain": [
       "<Figure size 640x480 with 1 Axes>"
      ]
     },
     "metadata": {},
     "output_type": "display_data"
    }
   ],
   "source": [
    "name = \"Lukas\"\n",
    "filtered_data_lukas = df4[(df4[\"F-VORNAME\"] == name)]\n",
    "lukas_count = filtered_data_lukas[\"F-ANZAHL_LGEB\"].sum()\n",
    "\n",
    "name = \"David\"\n",
    "filtered_data_david = df4[(df4[\"F-VORNAME\"] == name)]\n",
    "david_count = filtered_data_david[\"F-ANZAHL_LGEB\"].sum()\n",
    "\n",
    "name = \"Elias\"\n",
    "filtered_data_elias = df4[(df4[\"F-VORNAME\"] == name)]\n",
    "elias_count = filtered_data_elias[\"F-ANZAHL_LGEB\"].sum()\n",
    "\n",
    "name = \"Jakob\"\n",
    "filtered_data_jakob = df4[(df4[\"F-VORNAME\"] == name)]\n",
    "jakob_count = filtered_data_jakob[\"F-ANZAHL_LGEB\"].sum()\n",
    "\n",
    "name = \"Maximilian\"\n",
    "filtered_data_maximilian = df4[(df4[\"F-VORNAME\"] == name)]\n",
    "maximilian_count = filtered_data_maximilian[\"F-ANZAHL_LGEB\"].sum()\n",
    "\n",
    "# Create a bar plot\n",
    "plt.bar([\"Lukas\"], [lukas_count])\n",
    "plt.bar([\"David\"], [david_count])\n",
    "plt.bar([\"Elias\"], [elias_count])\n",
    "plt.bar([\"Jakob\"], [jakob_count])\n",
    "plt.bar([\"Maximilian\"], [maximilian_count])\n",
    "plt.xlabel(\"Name\")\n",
    "plt.ylabel(\"Anzahl der Geburten seit 2010\")\n",
    "plt.title(f\"Anzahl von männlichen Lebendgeborenen\")\n",
    "plt.show()"
   ]
  },
  {
   "cell_type": "code",
   "execution_count": 367,
   "id": "0376344c-6211-4baf-be54-8d3dd75e4614",
   "metadata": {},
   "outputs": [
    {
     "data": {
      "image/png": "[encoded data removed]",
      "text/plain": [
       "<Figure size 800x600 with 1 Axes>"
      ]
     },
     "metadata": {},
     "output_type": "display_data"
    }
   ],
   "source": [
    "query = {\n",
    "    \"query\": {\n",
    "        \"bool\": {\n",
    "            \"must\": [\n",
    "                {\"match\": {\"C-JAHR-0\": 2011}}\n",
    "            ]\n",
    "        }\n",
    "    }\n",
    "}\n",
    "\n",
    "source_fields = [\n",
    "    \"C-JAHR-0\",\n",
    "    \"F-VORNAME\",\n",
    "    \"F-ANZAHL_LGEB\",\n",
    "]\n",
    "\n",
    "df5 = es_to_dataframe(es, index_name, query, source_fields)\n",
    "\n",
    "\n",
    "name = \"A/L\"\n",
    "AL_count = df5[\"F-ANZAHL_LGEB\"].sum()\n",
    "\n",
    "query = {\n",
    "    \"query\": {\n",
    "        \"bool\": {\n",
    "            \"must\": [\n",
    "                {\"match\": {\"C-H88-0\": \"2011\"}}\n",
    "            ]\n",
    "        }\n",
    "    }\n",
    "}\n",
    "\n",
    "source_fields = [\n",
    "    \"C-H88-0\",\n",
    "    \"F-ISIS-1\",\n",
    "    \"C-GRGEM\",\n",
    "]\n",
    "\n",
    "df6 = es_to_dataframe(es, index_name, query, source_fields)\n",
    "\n",
    "# Ensure C-WOHNBEZIRK-0 has one characters by padding with zeros\n",
    "population_2011 = df6.loc[df6['C-GRGEM'].astype(str).str.len() == 1]\n",
    "population_2011_summary = population_2011.sum()\n",
    "\n",
    "names = [\"Lebendgeborene\"]\n",
    "counts = [AL_count]\n",
    "total_population = population_2011_summary['F-ISIS-1']\n",
    "\n",
    "# Calculate percentage\n",
    "name_percentage = (np.array(counts) / total_population) * 100\n",
    "population_percentage = 100 - name_percentage\n",
    "\n",
    "fig, ax = plt.subplots(figsize=(8, 6))\n",
    "\n",
    "# Create a stacked bar chart\n",
    "bar_width = 0.4\n",
    "x = np.arange(len(names))\n",
    "bars1 = ax.bar(x, name_percentage, bar_width, label=\"Lebendgeborene\")\n",
    "bars2 = ax.bar(x, population_percentage, bar_width, bottom=name_percentage, label=\"Bevölkerungsanzahl\")\n",
    "\n",
    "# Add labels, title and custom x-axis tick labels\n",
    "ax.set_xlabel(\"Summe\")\n",
    "ax.set_ylabel(\"Anteil\")\n",
    "ax.set_title(\"Lebendgeborene vs Bevölkerungszählung in 2011 (rel.)\")\n",
    "ax.set_xticks(x)\n",
    "ax.set_xticklabels(names)\n",
    "ax.legend()\n",
    "\n",
    "# Annotate the bars with their values\n",
    "for bar, pct in zip(bars1, name_percentage):\n",
    "    height = bar.get_height()\n",
    "    ax.annotate('{:.2f}%'.format(pct),\n",
    "                xy=(bar.get_x() + bar.get_width() / 2, height),\n",
    "                xytext=(0, 3),  # 3 points vertical offset\n",
    "                textcoords=\"offset points\",\n",
    "                ha='center', va='bottom')\n",
    "\n",
    "for bar, pct in zip(bars2, population_percentage):\n",
    "    height = bar.get_height()\n",
    "    ax.annotate('{:.2f}%'.format(pct),\n",
    "                xy=(bar.get_x() + bar.get_width() / 2, bar.get_y() + height),\n",
    "                xytext=(0, 3),  # 3 points vertical offset\n",
    "                textcoords=\"offset points\",\n",
    "                ha='center', va='bottom')\n",
    "    \n",
    "plt.grid(axis='y', linestyle=':', alpha=0.9)\n",
    "\n",
    "plt.show()\n"
   ]
  },
  {
   "cell_type": "code",
   "execution_count": 350,
   "id": "ea3d5207-c768-432c-84db-0141329756c3",
   "metadata": {},
   "outputs": [
    {
     "data": {
      "text/html": [
       "<div>\n",
       "<style scoped>\n",
       "    .dataframe tbody tr th:only-of-type {\n",
       "        vertical-align: middle;\n",
       "    }\n",
       "\n",
       "    .dataframe tbody tr th {\n",
       "        vertical-align: top;\n",
       "    }\n",
       "\n",
       "    .dataframe thead th {\n",
       "        text-align: right;\n",
       "    }\n",
       "</style>\n",
       "<table border=\"1\" class=\"dataframe\">\n",
       "  <thead>\n",
       "    <tr style=\"text-align: right;\">\n",
       "      <th></th>\n",
       "      <th>C-JAHR-0</th>\n",
       "      <th>F-VORNAME</th>\n",
       "      <th>F-ANZAHL_LGEB</th>\n",
       "    </tr>\n",
       "  </thead>\n",
       "  <tbody>\n",
       "    <tr>\n",
       "      <th>0</th>\n",
       "      <td>2011</td>\n",
       "      <td>Adele</td>\n",
       "      <td>1</td>\n",
       "    </tr>\n",
       "    <tr>\n",
       "      <th>1</th>\n",
       "      <td>2011</td>\n",
       "      <td>Ajla</td>\n",
       "      <td>1</td>\n",
       "    </tr>\n",
       "    <tr>\n",
       "      <th>2</th>\n",
       "      <td>2011</td>\n",
       "      <td>Alena</td>\n",
       "      <td>1</td>\n",
       "    </tr>\n",
       "    <tr>\n",
       "      <th>3</th>\n",
       "      <td>2011</td>\n",
       "      <td>Alexandra</td>\n",
       "      <td>3</td>\n",
       "    </tr>\n",
       "    <tr>\n",
       "      <th>4</th>\n",
       "      <td>2011</td>\n",
       "      <td>Alina</td>\n",
       "      <td>4</td>\n",
       "    </tr>\n",
       "    <tr>\n",
       "      <th>...</th>\n",
       "      <td>...</td>\n",
       "      <td>...</td>\n",
       "      <td>...</td>\n",
       "    </tr>\n",
       "    <tr>\n",
       "      <th>13899</th>\n",
       "      <td>2011</td>\n",
       "      <td>Felix</td>\n",
       "      <td>5</td>\n",
       "    </tr>\n",
       "    <tr>\n",
       "      <th>13900</th>\n",
       "      <td>2011</td>\n",
       "      <td>Filopatir</td>\n",
       "      <td>1</td>\n",
       "    </tr>\n",
       "    <tr>\n",
       "      <th>13901</th>\n",
       "      <td>2011</td>\n",
       "      <td>Finn</td>\n",
       "      <td>1</td>\n",
       "    </tr>\n",
       "    <tr>\n",
       "      <th>13902</th>\n",
       "      <td>2011</td>\n",
       "      <td>Florian</td>\n",
       "      <td>5</td>\n",
       "    </tr>\n",
       "    <tr>\n",
       "      <th>13903</th>\n",
       "      <td>2011</td>\n",
       "      <td>Christian</td>\n",
       "      <td>1</td>\n",
       "    </tr>\n",
       "  </tbody>\n",
       "</table>\n",
       "<p>13904 rows × 3 columns</p>\n",
       "</div>"
      ],
      "text/plain": [
       "       C-JAHR-0  F-VORNAME  F-ANZAHL_LGEB\n",
       "0          2011      Adele              1\n",
       "1          2011       Ajla              1\n",
       "2          2011      Alena              1\n",
       "3          2011  Alexandra              3\n",
       "4          2011      Alina              4\n",
       "...         ...        ...            ...\n",
       "13899      2011      Felix              5\n",
       "13900      2011  Filopatir              1\n",
       "13901      2011       Finn              1\n",
       "13902      2011    Florian              5\n",
       "13903      2011  Christian              1\n",
       "\n",
       "[13904 rows x 3 columns]"
      ]
     },
     "execution_count": 350,
     "metadata": {},
     "output_type": "execute_result"
    }
   ],
   "source": [
    "df5"
   ]
  },
  {
   "cell_type": "markdown",
   "id": "7e1f0785-2095-427b-8f13-db0fb94f909d",
   "metadata": {
    "jp-MarkdownHeadingCollapsed": true,
    "tags": []
   },
   "source": [
    "### Index \"idx1\" löschen"
   ]
  },
  {
   "cell_type": "code",
   "execution_count": 210,
   "id": "77eb60d4-6b01-498b-a055-0086e4752011",
   "metadata": {},
   "outputs": [
    {
     "data": {
      "text/plain": [
       "ObjectApiResponse({'acknowledged': True})"
      ]
     },
     "execution_count": 210,
     "metadata": {},
     "output_type": "execute_result"
    }
   ],
   "source": [
    "es.options(ignore_status=[400,404]).indices.delete(index='idx2')"
   ]
  }
 ],
 "metadata": {
  "kernelspec": {
   "display_name": "Python 3 (ipykernel)",
   "language": "python",
   "name": "python3"
  },
  "language_info": {
   "codemirror_mode": {
    "name": "ipython",
    "version": 3
   },
   "file_extension": ".py",
   "mimetype": "text/x-python",
   "name": "python",
   "nbconvert_exporter": "python",
   "pygments_lexer": "ipython3",
   "version": "3.9.13"
  }
 },
 "nbformat": 4,
 "nbformat_minor": 5
}
